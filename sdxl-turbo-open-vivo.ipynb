{
 "cells": [
  {
   "cell_type": "markdown",
   "id": "4397a3278941cd71",
   "metadata": {
    "collapsed": false
   },
   "source": [
    "# SDXL-Turbo Open Vivo"
   ]
  },
  {
   "cell_type": "markdown",
   "id": "a26d4d6b05d792cd",
   "metadata": {
    "collapsed": false
   },
   "source": [
    "## Prompt"
   ]
  },
  {
   "cell_type": "code",
   "execution_count": 1,
   "id": "691377f989354d1a",
   "metadata": {
    "collapsed": false,
    "ExecuteTime": {
     "end_time": "2023-12-12T22:41:10.265160670Z",
     "start_time": "2023-12-12T22:41:10.220018737Z"
    }
   },
   "outputs": [],
   "source": [
    "prompt = \"\"\"bee mascot for a database application brand, super cute, 2d\"\"\"\n",
    "\n",
    "negative = \"\"\"drawing, painting, crayon, sketch, graphite, impressionist, noisy, blurry, soft, deformed, ugly\"\"\""
   ]
  },
  {
   "cell_type": "markdown",
   "id": "2a93b7d6bc07ed72",
   "metadata": {
    "collapsed": false
   },
   "source": [
    "## The code\n",
    "\n",
    "On 16 thread CPU, it takes about 4 seconds to generate a 512x512 image, up-scaled to 2048x2048.\n",
    "\n",
    "You can switch the scaling to x8 if you wish."
   ]
  },
  {
   "cell_type": "code",
   "execution_count": 2,
   "id": "9f85fb7dad152b39",
   "metadata": {
    "collapsed": false,
    "ExecuteTime": {
     "end_time": "2023-12-12T22:42:50.525039832Z",
     "start_time": "2023-12-12T22:41:10.264498847Z"
    }
   },
   "outputs": [
    {
     "data": {
      "text/plain": "Fetching 27 files:   0%|          | 0/27 [00:00<?, ?it/s]",
      "application/vnd.jupyter.widget-view+json": {
       "version_major": 2,
       "version_minor": 0,
       "model_id": "a89aead9dc04460bba424714cc636c0b"
      }
     },
     "metadata": {},
     "output_type": "display_data"
    },
    {
     "name": "stderr",
     "output_type": "stream",
     "text": [
      "Compiling the vae_decoder to CPU ...\n",
      "Compiling the unet to CPU ...\n",
      "Compiling the text_encoder_2 to CPU ...\n",
      "Compiling the vae_encoder to CPU ...\n",
      "Compiling the text_encoder to CPU ...\n"
     ]
    }
   ],
   "source": [
    "from optimum.intel.openvino.modeling_diffusion import OVStableDiffusionXLPipeline\n",
    "from utils import scale\n",
    "import torch\n",
    "\n",
    "pipe = OVStableDiffusionXLPipeline.from_pretrained(\n",
    "    \"rupeshs/sdxl-turbo-openvino-int8\",\n",
    "    ov_config={\"CACHE_DIR\": \"\"},\n",
    ")\n",
    "\n",
    "#pipe.to(\"cpu\")"
   ]
  },
  {
   "cell_type": "code",
   "execution_count": 3,
   "id": "e61b2b722926bac1",
   "metadata": {
    "collapsed": false,
    "ExecuteTime": {
     "end_time": "2023-12-12T22:44:35.887389756Z",
     "start_time": "2023-12-12T22:42:50.529330060Z"
    }
   },
   "outputs": [
    {
     "name": "stderr",
     "output_type": "stream",
     "text": [
      "/home/mlog00/repos/llm-notebooks/venv/lib/python3.11/site-packages/optimum/intel/openvino/modeling_diffusion.py:565: FutureWarning: `shared_memory` is deprecated and will be removed in 2024.0. Value of `shared_memory` is going to override `share_inputs` value. Please use only `share_inputs` explicitly.\n",
      "  outputs = self.request(inputs, shared_memory=True)\n"
     ]
    },
    {
     "data": {
      "text/plain": "  0%|          | 0/1 [00:00<?, ?it/s]",
      "application/vnd.jupyter.widget-view+json": {
       "version_major": 2,
       "version_minor": 0,
       "model_id": "456ff04396804f6c87a3607cf12f94ae"
      }
     },
     "metadata": {},
     "output_type": "display_data"
    },
    {
     "name": "stderr",
     "output_type": "stream",
     "text": [
      "/home/mlog00/repos/llm-notebooks/venv/lib/python3.11/site-packages/optimum/intel/openvino/modeling_diffusion.py:599: FutureWarning: `shared_memory` is deprecated and will be removed in 2024.0. Value of `shared_memory` is going to override `share_inputs` value. Please use only `share_inputs` explicitly.\n",
      "  outputs = self.request(inputs, shared_memory=True)\n",
      "/home/mlog00/repos/llm-notebooks/venv/lib/python3.11/site-packages/optimum/intel/openvino/modeling_diffusion.py:615: FutureWarning: `shared_memory` is deprecated and will be removed in 2024.0. Value of `shared_memory` is going to override `share_inputs` value. Please use only `share_inputs` explicitly.\n",
      "  outputs = self.request(inputs, shared_memory=True)\n"
     ]
    },
    {
     "name": "stdout",
     "output_type": "stream",
     "text": [
      "Image saved at images/sdxl-turbo-open-vivo/v0X11n6N12S1l8U11Z7l7U2K9Q1.png\n"
     ]
    },
    {
     "data": {
      "text/plain": "  0%|          | 0/1 [00:00<?, ?it/s]",
      "application/vnd.jupyter.widget-view+json": {
       "version_major": 2,
       "version_minor": 0,
       "model_id": "e7072ee52b54417ba62a737353959315"
      }
     },
     "metadata": {},
     "output_type": "display_data"
    },
    {
     "name": "stdout",
     "output_type": "stream",
     "text": [
      "Image saved at images/sdxl-turbo-open-vivo/E7P3u2b3g12I5m10o9p9J6b4L3.png\n"
     ]
    },
    {
     "data": {
      "text/plain": "  0%|          | 0/1 [00:00<?, ?it/s]",
      "application/vnd.jupyter.widget-view+json": {
       "version_major": 2,
       "version_minor": 0,
       "model_id": "0dfc736f0d3145c0abf7b3fa8410dc5f"
      }
     },
     "metadata": {},
     "output_type": "display_data"
    },
    {
     "name": "stdout",
     "output_type": "stream",
     "text": [
      "Image saved at images/sdxl-turbo-open-vivo/s11u3q7u6I4s11F7h4q7D4s11u9.png\n"
     ]
    },
    {
     "data": {
      "text/plain": "  0%|          | 0/1 [00:00<?, ?it/s]",
      "application/vnd.jupyter.widget-view+json": {
       "version_major": 2,
       "version_minor": 0,
       "model_id": "f5fcdf8f47d4495495485a8ad2f76fbc"
      }
     },
     "metadata": {},
     "output_type": "display_data"
    },
    {
     "name": "stdout",
     "output_type": "stream",
     "text": [
      "Image saved at images/sdxl-turbo-open-vivo/P5B3O3i3h2f8c11s6d9W0c2l0.png\n"
     ]
    },
    {
     "data": {
      "text/plain": "  0%|          | 0/1 [00:00<?, ?it/s]",
      "application/vnd.jupyter.widget-view+json": {
       "version_major": 2,
       "version_minor": 0,
       "model_id": "5d5495105c614b0ca028ea4f04848c0f"
      }
     },
     "metadata": {},
     "output_type": "display_data"
    },
    {
     "name": "stdout",
     "output_type": "stream",
     "text": [
      "Image saved at images/sdxl-turbo-open-vivo/V6K3B0F10k5P0T11z3Q3a10Z7v10.png\n"
     ]
    },
    {
     "data": {
      "text/plain": "  0%|          | 0/1 [00:00<?, ?it/s]",
      "application/vnd.jupyter.widget-view+json": {
       "version_major": 2,
       "version_minor": 0,
       "model_id": "ccc843093cf44c35bac8a52ca8376454"
      }
     },
     "metadata": {},
     "output_type": "display_data"
    },
    {
     "name": "stdout",
     "output_type": "stream",
     "text": [
      "Image saved at images/sdxl-turbo-open-vivo/i8r6C0V5N2G0A8Z2S7p3x9B10.png\n"
     ]
    },
    {
     "data": {
      "text/plain": "  0%|          | 0/1 [00:00<?, ?it/s]",
      "application/vnd.jupyter.widget-view+json": {
       "version_major": 2,
       "version_minor": 0,
       "model_id": "c046a0fc18a44967b2c13107ba20c2d5"
      }
     },
     "metadata": {},
     "output_type": "display_data"
    },
    {
     "name": "stdout",
     "output_type": "stream",
     "text": [
      "Image saved at images/sdxl-turbo-open-vivo/f2J8C3v4t3f0C10q5P7Y7F3m3.png\n"
     ]
    },
    {
     "data": {
      "text/plain": "  0%|          | 0/1 [00:00<?, ?it/s]",
      "application/vnd.jupyter.widget-view+json": {
       "version_major": 2,
       "version_minor": 0,
       "model_id": "ea99967f59684e1993b563ecee06a02f"
      }
     },
     "metadata": {},
     "output_type": "display_data"
    },
    {
     "name": "stdout",
     "output_type": "stream",
     "text": [
      "Image saved at images/sdxl-turbo-open-vivo/V11M4c12M2M9F8X6p7T10s6G11R10.png\n"
     ]
    },
    {
     "data": {
      "text/plain": "  0%|          | 0/1 [00:00<?, ?it/s]",
      "application/vnd.jupyter.widget-view+json": {
       "version_major": 2,
       "version_minor": 0,
       "model_id": "986fabd0028449b79e6ea3625e7c6681"
      }
     },
     "metadata": {},
     "output_type": "display_data"
    },
    {
     "name": "stdout",
     "output_type": "stream",
     "text": [
      "Image saved at images/sdxl-turbo-open-vivo/a5C10r7M10a3R10u0y2R6X2R11E11.png\n"
     ]
    }
   ],
   "source": [
    "for i in range(1, 10):\n",
    "    temp_image = pipe(prompt=prompt,\n",
    "                        width=512,\n",
    "                        height=512,\n",
    "                        num_inference_steps=1,\n",
    "                        guidance_scale=1.0,).images[0]\n",
    "\n",
    "    scale(scaler=\"lapsrn\", model=\"sdxl-turbo-open-vivo\", factor=4, source=temp_image)"
   ]
  }
 ],
 "metadata": {
  "kernelspec": {
   "display_name": "Python 3",
   "language": "python",
   "name": "python3"
  },
  "language_info": {
   "codemirror_mode": {
    "name": "ipython",
    "version": 2
   },
   "file_extension": ".py",
   "mimetype": "text/x-python",
   "name": "python",
   "nbconvert_exporter": "python",
   "pygments_lexer": "ipython2",
   "version": "2.7.6"
  }
 },
 "nbformat": 4,
 "nbformat_minor": 5
}
