{
 "cells": [
  {
   "cell_type": "markdown",
   "source": [
    "# Stable Diffusion XL"
   ],
   "metadata": {
    "collapsed": false
   },
   "id": "4397a3278941cd71"
  },
  {
   "cell_type": "markdown",
   "source": [
    "## Prompt"
   ],
   "metadata": {
    "collapsed": false
   },
   "id": "a26d4d6b05d792cd"
  },
  {
   "cell_type": "code",
   "execution_count": null,
   "outputs": [],
   "source": [
    "prompt = \"\"\"An astronaut riding a silver cat on the Jupyter\"\"\""
   ],
   "metadata": {
    "collapsed": false
   },
   "id": "691377f989354d1a"
  },
  {
   "cell_type": "markdown",
   "source": [
    "## The code\n",
    "\n",
    "On 16 thread CPU, it takes about 4 minutes to generate a 512x512 image, up-scaled to 2048x2048.\n",
    "\n",
    "You can switch the scaling level to x8 if you wish."
   ],
   "metadata": {
    "collapsed": false
   },
   "id": "2a93b7d6bc07ed72"
  },
  {
   "cell_type": "code",
   "execution_count": null,
   "outputs": [],
   "source": [
    "from diffusers import StableDiffusionPipeline\n",
    "from utils import scale\n",
    "import torch\n",
    "\n",
    "model_id = \"stabilityai/stable-diffusion-xl-base-1.0\"\n",
    "\n",
    "pipe = StableDiffusionPipeline.from_pretrained(model_id,\n",
    "                                               torch_dtype=torch.float32,\n",
    "                                               use_safetensors=True)\n",
    "pipe = pipe.to(\"cpu\")"
   ],
   "metadata": {
    "collapsed": false
   },
   "id": "9f85fb7dad152b39"
  },
  {
   "cell_type": "code",
   "execution_count": null,
   "outputs": [],
   "source": [
    "temp_image = pipe(prompt=prompt).images[0]\n",
    "\n",
    "scale(scaler=\"lapsrn\", model=\"stable-diffusion-xl\", factor=4, source=temp_image)"
   ],
   "metadata": {
    "collapsed": false
   },
   "id": "e61b2b722926bac1"
  }
 ],
 "metadata": {
  "kernelspec": {
   "display_name": "Python 3",
   "language": "python",
   "name": "python3"
  },
  "language_info": {
   "codemirror_mode": {
    "name": "ipython",
    "version": 2
   },
   "file_extension": ".py",
   "mimetype": "text/x-python",
   "name": "python",
   "nbconvert_exporter": "python",
   "pygments_lexer": "ipython2",
   "version": "2.7.6"
  }
 },
 "nbformat": 4,
 "nbformat_minor": 5
}
