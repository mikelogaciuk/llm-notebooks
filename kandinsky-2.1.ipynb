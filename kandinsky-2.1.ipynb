{
 "cells": [
  {
   "cell_type": "markdown",
   "source": [
    "# Kandinsky 2.1"
   ],
   "metadata": {
    "collapsed": false
   },
   "id": "4397a3278941cd71"
  },
  {
   "cell_type": "markdown",
   "source": [
    "## Prompt"
   ],
   "metadata": {
    "collapsed": false
   },
   "id": "a26d4d6b05d792cd"
  },
  {
   "cell_type": "code",
   "execution_count": null,
   "outputs": [],
   "source": [
    "prompt = \"A alien cheeseburger creature eating itself, claymation, cinematic, moody lighting\"\n",
    "negative_prompt = \"low quality, bad quality\""
   ],
   "metadata": {
    "collapsed": false
   },
   "id": "691377f989354d1a"
  },
  {
   "cell_type": "markdown",
   "source": [
    "## The code\n",
    "\n",
    "On 16 thread CPU, it takes about 15 minutes to generate a 512x512 image, up-scaled to 2048x2048.\n",
    "\n",
    "You can switch the scaling level to x8 if you wish."
   ],
   "metadata": {
    "collapsed": false
   },
   "id": "2a93b7d6bc07ed72"
  },
  {
   "cell_type": "code",
   "execution_count": null,
   "outputs": [],
   "source": [
    "from diffusers import AutoPipelineForText2Image\n",
    "from utils import scale\n",
    "import torch\n",
    "\n",
    "pipe = AutoPipelineForText2Image.from_pretrained(\"kandinsky-community/kandinsky-2-1\", \n",
    "                                                 torch_dtype=torch.float32)\n",
    "pipe = pipe.to(\"cpu\")"
   ],
   "metadata": {
    "collapsed": false
   },
   "id": "9f85fb7dad152b39"
  },
  {
   "cell_type": "code",
   "execution_count": null,
   "outputs": [],
   "source": [
    "temp_image = pipe(prompt=prompt, negative_prompt=negative_prompt, prior_guidance_scale =1.0, height=768, width=768).images[0]\n",
    "\n",
    "scale(scaler=\"lapsrn\", model=\"kandinsky\", factor=4, source=temp_image)"
   ],
   "metadata": {
    "collapsed": false
   },
   "id": "e61b2b722926bac1"
  }
 ],
 "metadata": {
  "kernelspec": {
   "display_name": "Python 3",
   "language": "python",
   "name": "python3"
  },
  "language_info": {
   "codemirror_mode": {
    "name": "ipython",
    "version": 2
   },
   "file_extension": ".py",
   "mimetype": "text/x-python",
   "name": "python",
   "nbconvert_exporter": "python",
   "pygments_lexer": "ipython2",
   "version": "2.7.6"
  }
 },
 "nbformat": 4,
 "nbformat_minor": 5
}
