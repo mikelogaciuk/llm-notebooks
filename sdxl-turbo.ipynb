{
 "cells": [
  {
   "cell_type": "markdown",
   "source": [
    "# SDXL-Turbo"
   ],
   "metadata": {
    "collapsed": false
   },
   "id": "4397a3278941cd71"
  },
  {
   "cell_type": "markdown",
   "source": [
    "## Prompt"
   ],
   "metadata": {
    "collapsed": false
   },
   "id": "a26d4d6b05d792cd"
  },
  {
   "cell_type": "code",
   "execution_count": 1,
   "outputs": [],
   "source": [
    "prompt = \"\"\"The dark crow looking like built with crystals on the dark forest background. Mascot. Digital Photography\"\"\"\n",
    "\n",
    "negative = \"\"\"painting, drawing, illustration, glitch, deformed, mutated, cross-eyed, ugly, disfigured\"\"\""
   ],
   "metadata": {
    "collapsed": false,
    "ExecuteTime": {
     "end_time": "2023-12-03T15:41:15.183845374Z",
     "start_time": "2023-12-03T15:41:15.149233223Z"
    }
   },
   "id": "691377f989354d1a"
  },
  {
   "cell_type": "markdown",
   "source": [
    "## The code\n",
    "\n",
    "On 16 thread CPU, it takes about 4 seconds to generate a 512x512 image, up-scaled to 2048x2048.\n",
    "\n",
    "You can switch the scaling to x8 if you wish."
   ],
   "metadata": {
    "collapsed": false
   },
   "id": "2a93b7d6bc07ed72"
  },
  {
   "cell_type": "code",
   "execution_count": 2,
   "outputs": [
    {
     "data": {
      "text/plain": "Loading pipeline components...:   0%|          | 0/7 [00:00<?, ?it/s]",
      "application/vnd.jupyter.widget-view+json": {
       "version_major": 2,
       "version_minor": 0,
       "model_id": "0ef6a38958b84462b970be8d9f6441a3"
      }
     },
     "metadata": {},
     "output_type": "display_data"
    },
    {
     "data": {
      "text/plain": "StableDiffusionXLPipeline {\n  \"_class_name\": \"StableDiffusionXLPipeline\",\n  \"_diffusers_version\": \"0.24.0\",\n  \"_name_or_path\": \"stabilityai/sdxl-turbo\",\n  \"feature_extractor\": [\n    null,\n    null\n  ],\n  \"force_zeros_for_empty_prompt\": true,\n  \"image_encoder\": [\n    null,\n    null\n  ],\n  \"scheduler\": [\n    \"diffusers\",\n    \"EulerAncestralDiscreteScheduler\"\n  ],\n  \"text_encoder\": [\n    \"transformers\",\n    \"CLIPTextModel\"\n  ],\n  \"text_encoder_2\": [\n    \"transformers\",\n    \"CLIPTextModelWithProjection\"\n  ],\n  \"tokenizer\": [\n    \"transformers\",\n    \"CLIPTokenizer\"\n  ],\n  \"tokenizer_2\": [\n    \"transformers\",\n    \"CLIPTokenizer\"\n  ],\n  \"unet\": [\n    \"diffusers\",\n    \"UNet2DConditionModel\"\n  ],\n  \"vae\": [\n    \"diffusers\",\n    \"AutoencoderKL\"\n  ]\n}"
     },
     "execution_count": 2,
     "metadata": {},
     "output_type": "execute_result"
    }
   ],
   "source": [
    "from diffusers import AutoPipelineForText2Image\n",
    "from utils import scale\n",
    "import torch\n",
    "pipe = AutoPipelineForText2Image.from_pretrained(\"stabilityai/sdxl-turbo\",\n",
    "                                                 torch_dtype=torch.float32)\n",
    "pipe.to(\"cpu\")"
   ],
   "metadata": {
    "collapsed": false,
    "ExecuteTime": {
     "end_time": "2023-12-03T15:41:21.521046310Z",
     "start_time": "2023-12-03T15:41:16.057917315Z"
    }
   },
   "id": "9f85fb7dad152b39"
  },
  {
   "cell_type": "code",
   "execution_count": 3,
   "outputs": [
    {
     "data": {
      "text/plain": "  0%|          | 0/1 [00:00<?, ?it/s]",
      "application/vnd.jupyter.widget-view+json": {
       "version_major": 2,
       "version_minor": 0,
       "model_id": "0b0168beac3a4a239f3b5187954b6c1a"
      }
     },
     "metadata": {},
     "output_type": "display_data"
    },
    {
     "name": "stdout",
     "output_type": "stream",
     "text": [
      "Image saved at images/sdxl-turbo/J3d9W5o7a1j5a10C10r2y0q2x0.png\n"
     ]
    },
    {
     "data": {
      "text/plain": "  0%|          | 0/1 [00:00<?, ?it/s]",
      "application/vnd.jupyter.widget-view+json": {
       "version_major": 2,
       "version_minor": 0,
       "model_id": "60a60d1889a3439dbd58711e18f21252"
      }
     },
     "metadata": {},
     "output_type": "display_data"
    },
    {
     "name": "stdout",
     "output_type": "stream",
     "text": [
      "Image saved at images/sdxl-turbo/b6T12n12B1Y2j5X3x12h10p8c1H0.png\n"
     ]
    },
    {
     "data": {
      "text/plain": "  0%|          | 0/1 [00:00<?, ?it/s]",
      "application/vnd.jupyter.widget-view+json": {
       "version_major": 2,
       "version_minor": 0,
       "model_id": "ab7dee7f01d94150aebac5b46d4decc0"
      }
     },
     "metadata": {},
     "output_type": "display_data"
    },
    {
     "name": "stdout",
     "output_type": "stream",
     "text": [
      "Image saved at images/sdxl-turbo/u10k5q9p7l12F7H0t0w8W5X7y12.png\n"
     ]
    },
    {
     "data": {
      "text/plain": "  0%|          | 0/1 [00:00<?, ?it/s]",
      "application/vnd.jupyter.widget-view+json": {
       "version_major": 2,
       "version_minor": 0,
       "model_id": "cc88f5ecc2ca4457b217ea4a338b42f9"
      }
     },
     "metadata": {},
     "output_type": "display_data"
    },
    {
     "name": "stdout",
     "output_type": "stream",
     "text": [
      "Image saved at images/sdxl-turbo/u6E1d10r11j2e4V6r8W2h9T0F8.png\n"
     ]
    },
    {
     "data": {
      "text/plain": "  0%|          | 0/1 [00:00<?, ?it/s]",
      "application/vnd.jupyter.widget-view+json": {
       "version_major": 2,
       "version_minor": 0,
       "model_id": "198042680b7e44ad9a380bb4e770b226"
      }
     },
     "metadata": {},
     "output_type": "display_data"
    },
    {
     "name": "stdout",
     "output_type": "stream",
     "text": [
      "Image saved at images/sdxl-turbo/U3z0G7d6X2f10B11K8l10s10b7j4.png\n"
     ]
    }
   ],
   "source": [
    "for i in range(1, 6):\n",
    "    temp_image = pipe(prompt=prompt,\n",
    "                      #negative_promt=negative,\n",
    "                      num_inference_steps=1,\n",
    "                      guidance_scale=0.0).images[0]\n",
    "\n",
    "    scale(scaler=\"lapsrn\", model=\"sdxl-turbo\", factor=4, source=temp_image)"
   ],
   "metadata": {
    "collapsed": false,
    "ExecuteTime": {
     "end_time": "2023-12-03T15:42:37.389855939Z",
     "start_time": "2023-12-03T15:41:31.373342719Z"
    }
   },
   "id": "e61b2b722926bac1"
  }
 ],
 "metadata": {
  "kernelspec": {
   "display_name": "Python 3",
   "language": "python",
   "name": "python3"
  },
  "language_info": {
   "codemirror_mode": {
    "name": "ipython",
    "version": 2
   },
   "file_extension": ".py",
   "mimetype": "text/x-python",
   "name": "python",
   "nbconvert_exporter": "python",
   "pygments_lexer": "ipython2",
   "version": "2.7.6"
  }
 },
 "nbformat": 4,
 "nbformat_minor": 5
}
