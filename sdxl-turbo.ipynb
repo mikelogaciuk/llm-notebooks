{
 "cells": [
  {
   "cell_type": "markdown",
   "id": "4397a3278941cd71",
   "metadata": {
    "collapsed": false
   },
   "source": [
    "# SDXL-Turbo"
   ]
  },
  {
   "cell_type": "markdown",
   "id": "a26d4d6b05d792cd",
   "metadata": {
    "collapsed": false
   },
   "source": [
    "## Prompt"
   ]
  },
  {
   "cell_type": "code",
   "execution_count": null,
   "id": "691377f989354d1a",
   "metadata": {
    "collapsed": false
   },
   "outputs": [],
   "source": [
    "prompt = \"\"\"tshirt vector, screen printed, hive and bee graphic, synthwave, vivid colors, detailed\"\"\"\n",
    "\n",
    "negative = \"\"\"drawing, painting, crayon, sketch, graphite, impressionist, noisy, blurry, soft, deformed, ugly\"\"\""
   ]
  },
  {
   "cell_type": "markdown",
   "id": "2a93b7d6bc07ed72",
   "metadata": {
    "collapsed": false
   },
   "source": [
    "## The code\n",
    "\n",
    "On 16 thread CPU, it takes about 4 seconds to generate a 512x512 image, up-scaled to 2048x2048.\n",
    "\n",
    "You can switch the scaling to x8 if you wish."
   ]
  },
  {
   "cell_type": "code",
   "execution_count": null,
   "id": "9f85fb7dad152b39",
   "metadata": {
    "collapsed": false
   },
   "outputs": [],
   "source": [
    "from diffusers import AutoPipelineForText2Image\n",
    "from utils import scale\n",
    "import torch\n",
    "\n",
    "pipe = AutoPipelineForText2Image.from_pretrained(\"stabilityai/sdxl-turbo\",\n",
    "                                                 torch_dtype=torch.float32)\n",
    "\n",
    "pipe.to(\"cpu\")"
   ]
  },
  {
   "cell_type": "code",
   "execution_count": null,
   "id": "e61b2b722926bac1",
   "metadata": {
    "collapsed": false
   },
   "outputs": [],
   "source": [
    "for i in range(1, 10):\n",
    "    temp_image = pipe(prompt=prompt,\n",
    "                      #negative_promt=negative,\n",
    "                      num_inference_steps=1,\n",
    "                      guidance_scale=0.0).images[0]\n",
    "\n",
    "    scale(scaler=\"lapsrn\", model=\"sdxl-turbo\", factor=4, source=temp_image)"
   ]
  }
 ],
 "metadata": {
  "kernelspec": {
   "display_name": "Python 3",
   "language": "python",
   "name": "python3"
  },
  "language_info": {
   "codemirror_mode": {
    "name": "ipython",
    "version": 2
   },
   "file_extension": ".py",
   "mimetype": "text/x-python",
   "name": "python",
   "nbconvert_exporter": "python",
   "pygments_lexer": "ipython2",
   "version": "2.7.6"
  }
 },
 "nbformat": 4,
 "nbformat_minor": 5
}
