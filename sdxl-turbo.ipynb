{
 "cells": [
  {
   "cell_type": "markdown",
   "id": "4397a3278941cd71",
   "metadata": {
    "collapsed": false
   },
   "source": [
    "# SDXL-Turbo"
   ]
  },
  {
   "cell_type": "markdown",
   "id": "a26d4d6b05d792cd",
   "metadata": {
    "collapsed": false
   },
   "source": [
    "## Prompt"
   ]
  },
  {
   "cell_type": "code",
   "execution_count": 25,
   "id": "691377f989354d1a",
   "metadata": {
    "collapsed": false,
    "ExecuteTime": {
     "end_time": "2024-02-19T22:52:52.183538552Z",
     "start_time": "2024-02-19T22:52:52.177260142Z"
    }
   },
   "outputs": [],
   "source": [
    "prompt = 'Modern programming company logotype,single elixir bottle from medieval times with violet fluid,almost empty,minimalistic,vector,no text'\n",
    "\n",
    "negative = 'deformed, mutated, ugly, disfigured, blur, blurry, noise, noisy, text'"
   ]
  },
  {
   "cell_type": "markdown",
   "id": "2a93b7d6bc07ed72",
   "metadata": {
    "collapsed": false
   },
   "source": [
    "## The code\n",
    "\n",
    "On 16 thread CPU, it takes about 4 seconds to generate a 512x512 image, up-scaled to 2048x2048.\n",
    "\n",
    "You can switch the scaling to x8 if you wish."
   ]
  },
  {
   "cell_type": "code",
   "execution_count": 26,
   "id": "9f85fb7dad152b39",
   "metadata": {
    "collapsed": false,
    "ExecuteTime": {
     "end_time": "2024-02-19T22:52:53.281933545Z",
     "start_time": "2024-02-19T22:52:52.180612690Z"
    }
   },
   "outputs": [
    {
     "data": {
      "text/plain": "Loading pipeline components...:   0%|          | 0/7 [00:00<?, ?it/s]",
      "application/vnd.jupyter.widget-view+json": {
       "version_major": 2,
       "version_minor": 0,
       "model_id": "4e2dc436ebe34d218e8e6964beeba628"
      }
     },
     "metadata": {},
     "output_type": "display_data"
    },
    {
     "data": {
      "text/plain": "StableDiffusionXLPipeline {\n  \"_class_name\": \"StableDiffusionXLPipeline\",\n  \"_diffusers_version\": \"0.26.2\",\n  \"_name_or_path\": \"stabilityai/sdxl-turbo\",\n  \"feature_extractor\": [\n    null,\n    null\n  ],\n  \"force_zeros_for_empty_prompt\": true,\n  \"image_encoder\": [\n    null,\n    null\n  ],\n  \"scheduler\": [\n    \"diffusers\",\n    \"EulerAncestralDiscreteScheduler\"\n  ],\n  \"text_encoder\": [\n    \"transformers\",\n    \"CLIPTextModel\"\n  ],\n  \"text_encoder_2\": [\n    \"transformers\",\n    \"CLIPTextModelWithProjection\"\n  ],\n  \"tokenizer\": [\n    \"transformers\",\n    \"CLIPTokenizer\"\n  ],\n  \"tokenizer_2\": [\n    \"transformers\",\n    \"CLIPTokenizer\"\n  ],\n  \"unet\": [\n    \"diffusers\",\n    \"UNet2DConditionModel\"\n  ],\n  \"vae\": [\n    \"diffusers\",\n    \"AutoencoderKL\"\n  ]\n}"
     },
     "execution_count": 26,
     "metadata": {},
     "output_type": "execute_result"
    }
   ],
   "source": [
    "from diffusers import AutoPipelineForText2Image\n",
    "from utils import scale\n",
    "import torch\n",
    "\n",
    "pipe = AutoPipelineForText2Image.from_pretrained(\"stabilityai/sdxl-turbo\",\n",
    "                                                 torch_dtype=torch.float32)\n",
    "\n",
    "pipe.to(\"cpu\")"
   ]
  },
  {
   "cell_type": "code",
   "execution_count": 27,
   "id": "e61b2b722926bac1",
   "metadata": {
    "collapsed": false,
    "ExecuteTime": {
     "end_time": "2024-02-19T22:54:20.760499725Z",
     "start_time": "2024-02-19T22:52:53.282218578Z"
    }
   },
   "outputs": [
    {
     "data": {
      "text/plain": "  0%|          | 0/2 [00:00<?, ?it/s]",
      "application/vnd.jupyter.widget-view+json": {
       "version_major": 2,
       "version_minor": 0,
       "model_id": "df186a5a72944b2085ef2cb4a84447bd"
      }
     },
     "metadata": {},
     "output_type": "display_data"
    },
    {
     "name": "stdout",
     "output_type": "stream",
     "text": [
      "Image saved at images/sdxl-turbo/L0I12T0I0v2l0e4B1i2G7k2Q11.png\n"
     ]
    },
    {
     "data": {
      "text/plain": "  0%|          | 0/2 [00:00<?, ?it/s]",
      "application/vnd.jupyter.widget-view+json": {
       "version_major": 2,
       "version_minor": 0,
       "model_id": "04c74b115cea4e029f006e34180d330e"
      }
     },
     "metadata": {},
     "output_type": "display_data"
    },
    {
     "name": "stdout",
     "output_type": "stream",
     "text": [
      "Image saved at images/sdxl-turbo/n7u7I6E10m12Q8q7n9P1M11m8q2.png\n"
     ]
    },
    {
     "data": {
      "text/plain": "  0%|          | 0/2 [00:00<?, ?it/s]",
      "application/vnd.jupyter.widget-view+json": {
       "version_major": 2,
       "version_minor": 0,
       "model_id": "7f678482014f42dc805014207378cd71"
      }
     },
     "metadata": {},
     "output_type": "display_data"
    },
    {
     "name": "stdout",
     "output_type": "stream",
     "text": [
      "Image saved at images/sdxl-turbo/s5W6a6U1a12E7O7l9g1N6C4H7.png\n"
     ]
    },
    {
     "data": {
      "text/plain": "  0%|          | 0/2 [00:00<?, ?it/s]",
      "application/vnd.jupyter.widget-view+json": {
       "version_major": 2,
       "version_minor": 0,
       "model_id": "cd61d2542e20407fbabdba57bb5f36c7"
      }
     },
     "metadata": {},
     "output_type": "display_data"
    },
    {
     "name": "stdout",
     "output_type": "stream",
     "text": [
      "Image saved at images/sdxl-turbo/Q3o0e2l4j6r11B6E0w7o0g3O3.png\n"
     ]
    },
    {
     "data": {
      "text/plain": "  0%|          | 0/2 [00:00<?, ?it/s]",
      "application/vnd.jupyter.widget-view+json": {
       "version_major": 2,
       "version_minor": 0,
       "model_id": "b61081ff1d0740b8b297dc78792e6950"
      }
     },
     "metadata": {},
     "output_type": "display_data"
    },
    {
     "name": "stdout",
     "output_type": "stream",
     "text": [
      "Image saved at images/sdxl-turbo/r4g12n3u3D9D0R7I2B3x9X8d8.png\n"
     ]
    }
   ],
   "source": [
    "# 512x512 with 2 steps, strength 1, guidance scale 0.0 gave me the result to my liking.\n",
    "# 1024x1024 gives multiples objects without any sense.\n",
    "\n",
    "for i in range(0, 5):\n",
    "    temp_image = pipe(prompt=prompt,\n",
    "                      negative_prompt=negative,\n",
    "                      width=512,\n",
    "                      height=512,\n",
    "                      num_inference_steps=2,\n",
    "                      strength=10,\n",
    "                      guidance_scale=0.0).images[0]\n",
    "\n",
    "    scale(scaler=\"lapsrn\", model=\"sdxl-turbo\", factor=4, source=temp_image)"
   ]
  },
  {
   "cell_type": "code",
   "outputs": [],
   "source": [],
   "metadata": {
    "collapsed": false,
    "ExecuteTime": {
     "end_time": "2024-02-19T22:54:20.760721819Z",
     "start_time": "2024-02-19T22:54:20.757043562Z"
    }
   },
   "id": "517249a92eb3ddb3",
   "execution_count": 27
  }
 ],
 "metadata": {
  "kernelspec": {
   "display_name": "Python 3",
   "language": "python",
   "name": "python3"
  },
  "language_info": {
   "codemirror_mode": {
    "name": "ipython",
    "version": 3
   },
   "file_extension": ".py",
   "mimetype": "text/x-python",
   "name": "python",
   "nbconvert_exporter": "python",
   "pygments_lexer": "ipython3",
   "version": "3.11.2"
  }
 },
 "nbformat": 4,
 "nbformat_minor": 5
}
