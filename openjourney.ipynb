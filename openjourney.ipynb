{
 "cells": [
  {
   "cell_type": "markdown",
   "source": [
    "# Openjourney"
   ],
   "metadata": {
    "collapsed": false
   },
   "id": "4397a3278941cd71"
  },
  {
   "cell_type": "markdown",
   "source": [
    "## Prompt"
   ],
   "metadata": {
    "collapsed": false
   },
   "id": "a26d4d6b05d792cd"
  },
  {
   "cell_type": "code",
   "execution_count": 4,
   "outputs": [],
   "source": [
    "prompt = \"\"\"retro serie of different cars with different colors and shapes, mdjrny-v4 style\"\"\""
   ],
   "metadata": {
    "collapsed": false,
    "ExecuteTime": {
     "end_time": "2023-12-03T15:55:02.808904313Z",
     "start_time": "2023-12-03T15:55:02.768307552Z"
    }
   },
   "id": "691377f989354d1a"
  },
  {
   "cell_type": "markdown",
   "source": [
    "## The code\n",
    "\n",
    "On 16 thread CPU, it takes about 4 minutes to generate a 512x512 image, up-scaled to 2048x2048.\n",
    "\n",
    "You can switch the scaling level to x8 if you wish."
   ],
   "metadata": {
    "collapsed": false
   },
   "id": "2a93b7d6bc07ed72"
  },
  {
   "cell_type": "code",
   "execution_count": 5,
   "outputs": [
    {
     "data": {
      "text/plain": "Loading pipeline components...:   0%|          | 0/7 [00:00<?, ?it/s]",
      "application/vnd.jupyter.widget-view+json": {
       "version_major": 2,
       "version_minor": 0,
       "model_id": "6437afbb11cb4730864386950a826c65"
      }
     },
     "metadata": {},
     "output_type": "display_data"
    },
    {
     "name": "stderr",
     "output_type": "stream",
     "text": [
      "`text_config_dict` is provided which will be used to initialize `CLIPTextConfig`. The value `text_config[\"id2label\"]` will be overriden.\n",
      "`text_config_dict` is provided which will be used to initialize `CLIPTextConfig`. The value `text_config[\"bos_token_id\"]` will be overriden.\n",
      "`text_config_dict` is provided which will be used to initialize `CLIPTextConfig`. The value `text_config[\"eos_token_id\"]` will be overriden.\n"
     ]
    }
   ],
   "source": [
    "from diffusers import StableDiffusionPipeline\n",
    "from utils import scale\n",
    "import torch\n",
    "\n",
    "model_id = \"prompthero/openjourney\"\n",
    "\n",
    "pipe = StableDiffusionPipeline.from_pretrained(model_id,\n",
    "                                               torch_dtype=torch.float32)\n",
    "pipe = pipe.to(\"cpu\")"
   ],
   "metadata": {
    "collapsed": false,
    "ExecuteTime": {
     "end_time": "2023-12-03T15:55:03.511692426Z",
     "start_time": "2023-12-03T15:55:02.808835990Z"
    }
   },
   "id": "9f85fb7dad152b39"
  },
  {
   "cell_type": "code",
   "execution_count": 6,
   "outputs": [
    {
     "data": {
      "text/plain": "  0%|          | 0/50 [00:00<?, ?it/s]",
      "application/vnd.jupyter.widget-view+json": {
       "version_major": 2,
       "version_minor": 0,
       "model_id": "8c3731a04a5947e4aed824e564030407"
      }
     },
     "metadata": {},
     "output_type": "display_data"
    },
    {
     "name": "stdout",
     "output_type": "stream",
     "text": [
      "Image saved at images/openjourney/w8W11r5h4x7N3z10j4m6N7J7A6.png\n"
     ]
    }
   ],
   "source": [
    "temp_image = pipe(prompt=prompt).images[0]\n",
    "\n",
    "scale(scaler=\"lapsrn\", model=\"openjourney\", factor=4, source=temp_image)"
   ],
   "metadata": {
    "collapsed": false,
    "ExecuteTime": {
     "end_time": "2023-12-03T15:58:42.136632641Z",
     "start_time": "2023-12-03T15:55:03.552814711Z"
    }
   },
   "id": "e61b2b722926bac1"
  }
 ],
 "metadata": {
  "kernelspec": {
   "display_name": "Python 3",
   "language": "python",
   "name": "python3"
  },
  "language_info": {
   "codemirror_mode": {
    "name": "ipython",
    "version": 2
   },
   "file_extension": ".py",
   "mimetype": "text/x-python",
   "name": "python",
   "nbconvert_exporter": "python",
   "pygments_lexer": "ipython2",
   "version": "2.7.6"
  }
 },
 "nbformat": 4,
 "nbformat_minor": 5
}
